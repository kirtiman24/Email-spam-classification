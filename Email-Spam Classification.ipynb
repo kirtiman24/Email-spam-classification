{
 "cells": [
  {
   "cell_type": "markdown",
   "metadata": {},
   "source": [
    " Email spam classification "
   ]
  },
  {
   "cell_type": "code",
   "execution_count": 4,
   "metadata": {},
   "outputs": [
    {
     "name": "stdout",
     "output_type": "stream",
     "text": [
      "Number of spam mails is 3671\n",
      "Number of ham mails is 1500\n"
     ]
    }
   ],
   "source": [
    "import os\n",
    "path =os.listdir(\"/Users/kirtimanrai/HW3/email-data/ham\")\n",
    "c=0\n",
    "d=0\n",
    "for file in path:\n",
    "    c+=1\n",
    "path1 =os.listdir(\"/Users/kirtimanrai/HW3/email-data/spam\")\n",
    "\n",
    "for files in path1:\n",
    "    d+=1   \n",
    "print(\"Number of spam mails is\",d)\n",
    "print(\"Number of ham mails is\",c)#your code here"
   ]
  },
  {
   "cell_type": "code",
   "execution_count": 6,
   "metadata": {},
   "outputs": [],
   "source": [
    "import re\n",
    "import string\n",
    "import codecs\n",
    "\n",
    "def make_word_list(path):\n",
    "    \n",
    "    with codecs.open(path, \"r\", encoding='utf-8', errors='ignore') as f:\n",
    "        corpus_text = f.read()\n",
    "\n",
    "    for c in string.punctuation:\n",
    "        corpus_text = corpus_text.replace(c, \"\")  # -- (1)\n",
    "    \n",
    "    text = re.sub(r'\\S*\\d\\S*','',corpus_text) # -- (2)\n",
    "    text = re.sub(r'[^\\w\\s]','',text)         # -- (3)\n",
    "    \n",
    "    text = text.lower().split()           # -- (4)         \n",
    "    \n",
    "    li = []\n",
    "    for token in text:\n",
    "        li.append(token)\n",
    "\n",
    "    return \" \".join(li)"
   ]
  },
  {
   "cell_type": "code",
   "execution_count": 14,
   "metadata": {},
   "outputs": [],
   "source": [
    "import glob\n",
    "import numpy as np\n",
    "spamd = []\n",
    "hamd=[]\n",
    "data=[]\n",
    "for f in glob.glob('/Users/kirtimanrai/HW3/email-data/spam/*.txt'):\n",
    "    spamd.append(make_word_list(f))\n",
    "    #data.append([make_word_list(f),1])\n",
    "\n",
    "\n",
    "for f in glob.glob('/Users/kirtimanrai/HW3/email-data/ham/*.txt'):\n",
    "    #data.append([make_word_list(f),0])\n",
    "    hamd.append(make_word_list(f))\n",
    "data=spamd+hamd\n",
    "label=[]\n",
    "for i in spamd:\n",
    "    label.append(1)\n",
    "for i in hamd:\n",
    "    label.append(0)\n",
    "#print(label[5170])   \n",
    "#label[5170]\n",
    "#label_h[1499]\n",
    "#print(data[5170])\n",
    "#print(hamd[-1])\n",
    "#print(train_e[-1])\n",
    "#print(hamd[-1])\n",
    "#your code here\n",
    "\n",
    "#print(hamd[-1])\n",
    "#print(spamd[-1])\n",
    "data=np.array(data) \n",
    "labels=np.array(label)\n",
    "#data[:,0]\n",
    "#your code here"
   ]
  },
  {
   "cell_type": "code",
   "execution_count": 15,
   "metadata": {},
   "outputs": [
    {
     "name": "stdout",
     "output_type": "stream",
     "text": [
      "Number of unique words in the vocabulary is:1000\n",
      "[[0 0 0 ... 0 0 0]\n",
      " [0 0 0 ... 0 0 0]\n",
      " [0 0 0 ... 0 0 0]\n",
      " ...\n",
      " [4 0 0 ... 0 0 0]\n",
      " [0 0 0 ... 0 0 0]\n",
      " [0 0 1 ... 0 2 0]]\n"
     ]
    }
   ],
   "source": [
    "vocab_size = 1000\n",
    "from sklearn.feature_extraction.text import CountVectorizer\n",
    "tf_vectorizer = CountVectorizer(max_df=0.8,\n",
    "                                min_df=50,\n",
    "                                stop_words='english',\n",
    "                                max_features=vocab_size)\n",
    "X = tf_vectorizer.fit_transform(data)\n",
    "\n",
    "X=X.toarray()\n",
    "\n",
    "l2=list(tf_vectorizer.vocabulary_.keys())\n",
    "print(\"Number of unique words in the vocabulary is:\"+str(len(l2)))\n",
    "#labels.shape\n",
    "#print(labels.shape)\n",
    "#labels=labels.reshape((5171,1000))\n",
    "#print(type(X))\n",
    "#X.shape\n",
    "#your code here\n",
    "print(X)\n",
    "#your code here"
   ]
  },
  {
   "cell_type": "code",
   "execution_count": 17,
   "metadata": {},
   "outputs": [
    {
     "name": "stdout",
     "output_type": "stream",
     "text": [
      "k: 1 cross validation score: 0.9393391323526235\n",
      "k: 2 cross validation score: 0.9392892556132162\n",
      "k: 4 cross validation score: 0.9345245867037745\n",
      "k: 8 cross validation score: 0.9271525695406488\n",
      "k: 16 cross validation score: 0.9176631553488083\n",
      "k: 32 cross validation score: 0.9058095736302904\n",
      "k: 64 cross validation score: 0.8941182027224899\n",
      "k: 128 cross validation score: 0.8827260560149982\n",
      "Best k: 128 best cross validation score: 0.9393391323526235\n"
     ]
    }
   ],
   "source": [
    "#KNN Hyperparameter tuning\n",
    "from sklearn.neighbors import KNeighborsClassifier\n",
    "from sklearn.model_selection import KFold\n",
    "from sklearn.metrics import f1_score\n",
    "from sklearn.metrics import accuracy_score\n",
    "from sklearn import metrics\n",
    "#f1=sklearn.metrics.f1_score(y_true, y_pred, *, labels=None, pos_label=1, average='weighted', sample_weight=None, zero_division='warn')\n",
    "num_folds = 5\n",
    "k_fold = KFold(num_folds)\n",
    "#hyperparameter_settings = []  # fill this with hyperparameter settings that you want to try\n",
    "\n",
    "#best_hyperparam_setting = None\n",
    "best_cross_val_score = -np.inf  # assumes that a higher score is better\n",
    "#for hyperparam_setting in hyperparameter_settings:\n",
    "fold_scores = []\n",
    "for k in 2**np.arange(0, 8):\n",
    "    for i,j in k_fold.split(X):\n",
    "        X_train, X_test = X[i], X[j]\n",
    "        y_train, y_test = labels[i], labels[j]\n",
    "        classifier=KNeighborsClassifier(n_neighbors=k)\n",
    "        classifier.fit(X_train, y_train)\n",
    "        y_pred = classifier.predict(X_test)\n",
    "        a = f1_score(y_test, y_pred,average='weighted')\n",
    "        fold_scores.append(a)\n",
    "\n",
    "        \n",
    "    cross_val_score = np.mean(fold_scores)\n",
    "    print('k:', k, 'cross validation score:', cross_val_score)\n",
    "\n",
    "    \n",
    "    # your code to train and score the training data here\n",
    "    \n",
    "    \n",
    "    if cross_val_score > best_cross_val_score:  # assumes that a higher score is better\n",
    "        best_cross_val_score = cross_val_score\n",
    "        #best_hyperparam_setting = hyperparam_setting\n",
    "print('Best k:', k, 'best cross validation score:', best_cross_val_score)\n",
    "#print('Best hyperparameter setting:', best_hyperparam_setting)\n"
   ]
  },
  {
   "cell_type": "code",
   "execution_count": null,
   "metadata": {},
   "outputs": [],
   "source": [
    "from sklearn.model_selection import KFold\n",
    "\n",
    "num_folds = 5\n",
    "k_fold = KFold(num_folds)\n",
    "hyperparameter_settings = []  # fill this with hyperparameter settings that you want to try\n",
    "\n",
    "best_hyperparam_setting = None\n",
    "best_cross_val_score = -np.inf  # assumes that a higher score is better\n",
    "for hyperparam_setting in hyperparameter_settings:\n",
    "    fold_scores = []\n",
    "    # your code to train and score the training data here\n",
    "    \n",
    "    cross_val_score = np.mean(fold_scores)\n",
    "    if cross_val_score > best_cross_val_score:  # assumes that a higher score is better\n",
    "        best_cross_val_score = cross_val_score\n",
    "        best_hyperparam_setting = hyperparam_setting\n",
    "\n",
    "print('Best hyperparameter setting:', best_hyperparam_setting)"
   ]
  },
  {
   "cell_type": "code",
   "execution_count": 18,
   "metadata": {},
   "outputs": [
    {
     "name": "stdout",
     "output_type": "stream",
     "text": [
      "Best hyperparameter setting: (50, 1) cross validation score: 0.9836289109926957\n"
     ]
    }
   ],
   "source": [
    "#RF Hyperparameter tuning\n",
    "from sklearn.ensemble import RandomForestClassifier\n",
    "from sklearn.model_selection import KFold\n",
    "from sklearn.metrics import f1_score\n",
    "from sklearn.metrics import accuracy_score\n",
    "from sklearn import metrics\n",
    "num_folds = 5\n",
    "k_fold = KFold(num_folds)\n",
    "hyperparameter_settings = [(max_features, min_samples_leaf)\n",
    "                           for max_features in [50,200,600]\n",
    "                           for min_samples_leaf in [1, 2, 4, 8, 16]]\n",
    "  # fill this with hyperparameter settings that you want to try\n",
    "\n",
    "best_hyperparam_setting = None\n",
    "best_cross_val_score = -np.inf  # assumes that a higher score is better\n",
    "for hyperparam_setting in hyperparameter_settings:\n",
    "    max_features, min_samples_leaf = hyperparam_setting\n",
    "    fold_scores = []\n",
    "    # your code to train and score the training data here\n",
    "    for i,j in k_fold.split(X):\n",
    "        X_train, X_test = X[i], X[j]\n",
    "        y_train, y_test = labels[i], labels[j]\n",
    "        classifier=RandomForestClassifier(max_features=max_features,\n",
    "                                            min_samples_leaf=min_samples_leaf,\n",
    "                                            random_state=0)\n",
    "        classifier.fit(X_train, y_train)\n",
    "        y_pred = classifier.predict(X_test)\n",
    "        a = f1_score(y_test, y_pred,average='weighted')\n",
    "        fold_scores.append(a)\n",
    "\n",
    "        \n",
    "    cross_val_score = np.mean(fold_scores)\n",
    "   \n",
    "\n",
    "    \n",
    "    #cross_val_score = np.mean(fold_scores)\n",
    "    if cross_val_score > best_cross_val_score:  # assumes that a higher score is better\n",
    "        best_cross_val_score = cross_val_score\n",
    "        best_hyperparam_setting = hyperparam_setting\n",
    "\n",
    "print('Best hyperparameter setting:', best_hyperparam_setting,'cross validation score:',best_cross_val_score)"
   ]
  },
  {
   "cell_type": "code",
   "execution_count": 24,
   "metadata": {},
   "outputs": [
    {
     "name": "stdout",
     "output_type": "stream",
     "text": [
      "0.5\n",
      "AUC: 0.5098039215686274\n",
      "0.344074844074844\n",
      "Average Precision Score: 0.494949494949495\n"
     ]
    }
   ],
   "source": [
    "from sklearn.metrics import average_precision_score, precision_recall_curve\n",
    "import glob\n",
    "test_data=[]\n",
    "for f in glob.glob('/Users/kirtimanrai/HW3/email-data/testing/*.txt'):\n",
    "    test_data.append(make_word_list(f))\n",
    "path='/Users/kirtimanrai/HW3/email-data/testing/'\n",
    "s=[]\n",
    "ytrue=[]\n",
    "names=[]\n",
    "for file_name in os.listdir(path):\n",
    "    #cnt+=1\n",
    "    s = file_name.split(\".\")\n",
    "    #print(s)\n",
    "    names.append(s[3])\n",
    "    if(s[3]==\"spam\"):\n",
    "        ytrue.append(1)\n",
    "    else:\n",
    "        ytrue.append(0)\n",
    "test_data=np.array(test_data) \n",
    "ytrue=np.array(ytrue)\n",
    "\n",
    "\n",
    "\n",
    "vocab_size = 1000\n",
    "from sklearn.feature_extraction.text import CountVectorizer\n",
    "tf = CountVectorizer(max_df=0.9,\n",
    "                                min_df=1,\n",
    "                                stop_words='english',\n",
    "                                max_features=vocab_size)\n",
    "Xt = tf.fit_transform(test_data)\n",
    "\n",
    "Xt=Xt.toarray()\n",
    "#l2=list(tf.vocabulary_.keys())\n",
    "#print(\"Number of unique words in the vocabulary is:\"+str(len(l2)))\n",
    "\n",
    "#KNN Classsifier\n",
    "classifier=KNeighborsClassifier(n_neighbors=128)\n",
    "classifier.fit(X, labels)\n",
    "y_pred = classifier.predict(Xt)\n",
    "b = f1_score(ytrue, y_pred,average='weighted')\n",
    "#KNN Metrics\n",
    "print(accuracy_score(ytrue, y_pred))\n",
    "fpr_k, tpr_k, thresholds = metrics.roc_curve(ytrue, y_pred, pos_label=1)\n",
    "# Print ROC curve\n",
    "#plt.plot(fpr_k,tpr_k)\n",
    "#plt.show() \n",
    "\n",
    "# Print AUC\n",
    "auc_k = np.trapz(tpr_k,fpr_k)\n",
    "print('AUC:', auc_k)\n",
    "\n",
    "print(f1_score(ytrue, y_pred, average='weighted'))\n",
    "\n",
    "from sklearn.metrics import average_precision_score\n",
    "aps_knn=average_precision_score(ytrue,y_pred)\n",
    "print(\"Average Precision Score:\",aps_knn)\n",
    "\n",
    "precision_knn, recall_knn, thresholds_knn = precision_recall_curve(ytrue, y_pred)\n",
    "\n",
    "\n",
    "#ytrue\n",
    "#your code here\n",
    "#your code here"
   ]
  },
  {
   "cell_type": "code",
   "execution_count": 26,
   "metadata": {},
   "outputs": [
    {
     "name": "stdout",
     "output_type": "stream",
     "text": [
      "0.55\n",
      "AUC: 0.5480192076830732\n",
      "0.5454904342544792\n",
      "Average Precision Score: 0.5169387755102041\n"
     ]
    }
   ],
   "source": [
    "rf=RandomForestClassifier(max_features=50,\n",
    "                                            min_samples_leaf=1,\n",
    "                                            random_state=0)\n",
    "rf.fit(X,labels)\n",
    "y_pred = rf.predict(Xt)\n",
    "print(accuracy_score(ytrue, y_pred))\n",
    "fpr_r, tpr_r, thresholds = metrics.roc_curve(ytrue, y_pred, pos_label=1)\n",
    "# Print ROC curve\n",
    "#plt.plot(fpr_r,tpr_r)\n",
    "#plt.show() \n",
    "\n",
    "# Print AUC\n",
    "auc_rf = np.trapz(tpr_r,fpr_r)\n",
    "print('AUC:', auc_rf)\n",
    "\n",
    "print(f1_score(ytrue, y_pred, average='weighted'))\n",
    "\n",
    "aps_rf=average_precision_score(ytrue,y_pred)\n",
    "print(\"Average Precision Score:\",aps_rf)\n",
    "\n",
    "precision_rf, recall_rf, thresholds_rf = precision_recall_curve(ytrue, y_pred)\n",
    "\n"
   ]
  },
  {
   "cell_type": "code",
   "execution_count": 27,
   "metadata": {},
   "outputs": [
    {
     "data": {
      "image/png": "[encoded data removed]",
      "text/plain": [
       "<Figure size 432x288 with 1 Axes>"
      ]
     },
     "metadata": {
      "needs_background": "light"
     },
     "output_type": "display_data"
    },
    {
     "data": {
      "text/plain": [
       "Text(0.5, 1.0, 'Precision Recall Curve')"
      ]
     },
     "execution_count": 27,
     "metadata": {},
     "output_type": "execute_result"
    },
    {
     "data": {
      "image/png": "[encoded data removed]",
      "text/plain": [
       "<Figure size 432x288 with 1 Axes>"
      ]
     },
     "metadata": {
      "needs_background": "light"
     },
     "output_type": "display_data"
    }
   ],
   "source": [
    "plt.plot(fpr_k, tpr_k, label= \"KNN\")\n",
    "plt.plot(fpr_r, tpr_r, label= \"Random Forest\")\n",
    "handles=[]\n",
    "handles.append([auc_k,'AUC for KNN Classifier'])\n",
    "handles.append([auc_rf,'AUC for RF Classifier'])\n",
    "plt.legend(handles, loc='lower right')\n",
    "plt.xlabel(\"FPR\")\n",
    "plt.ylabel(\"TPR\")\n",
    "plt.title('Receiver Operating Characteristic')\n",
    "plt.show()\n",
    "\n",
    "plt.plot(precision_knn,recall_knn,label=\"KNN\")\n",
    "plt.plot(precision_rf,recall_rf,label=\"Random Forest\")\n",
    "handle=[]\n",
    "handle.append([aps_knn,'Precsion Score for KNN Classifier'])\n",
    "handle.append([aps_rf,'Precision Score for RF Classifier'])\n",
    "plt.legend(handle, loc='lower right')\n",
    "plt.title('Precision Recall Curve')"
   ]
  }
 ],
 "metadata": {
  "kernelspec": {
   "display_name": "Python 3",
   "language": "python",
   "name": "python3"
  },
  "language_info": {
   "codemirror_mode": {
    "name": "ipython",
    "version": 3
   },
   "file_extension": ".py",
   "mimetype": "text/x-python",
   "name": "python",
   "nbconvert_exporter": "python",
   "pygments_lexer": "ipython3",
   "version": "3.8.8"
  }
 },
 "nbformat": 4,
 "nbformat_minor": 2
}
